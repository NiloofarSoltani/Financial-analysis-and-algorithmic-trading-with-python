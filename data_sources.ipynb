{
 "cells": [
  {
   "cell_type": "markdown",
   "source": [
    "<div style=\"background-color: #4C0033; padding:15px;\" ><h2> Different ways for GETTING FINANCIAL DATA WITH PYTHON on to the computer"
   ],
   "metadata": {
    "collapsed": false,
    "pycharm": {
     "name": "#%% md\n"
    }
   }
  },
  {
   "cell_type": "markdown",
   "source": [
    "<div style=\"background-color: #9F73AB; padding:15px;\"> <h3>PANDAS DATAREADER"
   ],
   "metadata": {
    "collapsed": false,
    "pycharm": {
     "name": "#%% md\n"
    }
   }
  },
  {
   "cell_type": "code",
   "execution_count": 62,
   "outputs": [],
   "source": [
    "import pandas as pd\n",
    "import pandas_datareader as web\n",
    "import datetime\n",
    "import os"
   ],
   "metadata": {
    "collapsed": false,
    "pycharm": {
     "name": "#%%\n"
    }
   }
  },
  {
   "cell_type": "code",
   "execution_count": 63,
   "outputs": [],
   "source": [
    "start = datetime.datetime(2015,1,1)\n",
    "end = datetime.datetime(2017,1,1)"
   ],
   "metadata": {
    "collapsed": false,
    "pycharm": {
     "name": "#%%\n"
    }
   }
  },
  {
   "cell_type": "markdown",
   "source": [
    "# https://www.alphavantage.co/  #get API KEY\n",
    "# https://pandas-datareader.readthedocs.io/en/latest/remote_data.html  #datareader documentation\n"
   ],
   "metadata": {
    "collapsed": false,
    "pycharm": {
     "name": "#%% md\n"
    }
   }
  },
  {
   "cell_type": "markdown",
   "source": [
    "<div style=\"background-color: #A12568; margin-left:40px; padding:15px; font-size:15px;\"> <strong>Alpha Vantage </strong>provides realtime currency exchange rates (for physical and digital currencies)."
   ],
   "metadata": {
    "collapsed": false,
    "pycharm": {
     "name": "#%% md\n"
    }
   }
  },
  {
   "cell_type": "code",
   "execution_count": 64,
   "outputs": [
    {
     "data": {
      "text/plain": "                                 USD/JPY\nFrom_Currency Code                   USD\nFrom_Currency Name  United States Dollar\nTo_Currency Code                     JPY\nTo_Currency Name            Japanese Yen\nExchange Rate               139.94700000\nLast Refreshed       2023-06-04 08:52:21\nTime Zone                            UTC\nBid Price                   139.94270000\nAsk Price                   139.94910000",
      "text/html": "<div>\n<style scoped>\n    .dataframe tbody tr th:only-of-type {\n        vertical-align: middle;\n    }\n\n    .dataframe tbody tr th {\n        vertical-align: top;\n    }\n\n    .dataframe thead th {\n        text-align: right;\n    }\n</style>\n<table border=\"1\" class=\"dataframe\">\n  <thead>\n    <tr style=\"text-align: right;\">\n      <th></th>\n      <th>USD/JPY</th>\n    </tr>\n  </thead>\n  <tbody>\n    <tr>\n      <th>From_Currency Code</th>\n      <td>USD</td>\n    </tr>\n    <tr>\n      <th>From_Currency Name</th>\n      <td>United States Dollar</td>\n    </tr>\n    <tr>\n      <th>To_Currency Code</th>\n      <td>JPY</td>\n    </tr>\n    <tr>\n      <th>To_Currency Name</th>\n      <td>Japanese Yen</td>\n    </tr>\n    <tr>\n      <th>Exchange Rate</th>\n      <td>139.94700000</td>\n    </tr>\n    <tr>\n      <th>Last Refreshed</th>\n      <td>2023-06-04 08:52:21</td>\n    </tr>\n    <tr>\n      <th>Time Zone</th>\n      <td>UTC</td>\n    </tr>\n    <tr>\n      <th>Bid Price</th>\n      <td>139.94270000</td>\n    </tr>\n    <tr>\n      <th>Ask Price</th>\n      <td>139.94910000</td>\n    </tr>\n  </tbody>\n</table>\n</div>"
     },
     "execution_count": 64,
     "metadata": {},
     "output_type": "execute_result"
    }
   ],
   "source": [
    "api_key = 'JFQTIA7JAUZ0IWAC'\n",
    "f = web.DataReader(\"USD/JPY\", \"av-forex\",start=start,end=end,api_key=api_key)\n",
    "f"
   ],
   "metadata": {
    "collapsed": false,
    "pycharm": {
     "name": "#%%\n"
    }
   }
  },
  {
   "cell_type": "markdown",
   "source": [
    "<div style=\"background-color: #A12568; margin-left:40px; padding:15px; font-size:15px;\"> <strong>Stooq Index Data</strong>Google finance doesn’t provide common index data download. The Stooq site has the data for download."
   ],
   "metadata": {
    "collapsed": false,
    "pycharm": {
     "name": "#%% md\n"
    }
   }
  },
  {
   "cell_type": "code",
   "execution_count": 65,
   "outputs": [
    {
     "data": {
      "text/plain": "                Open      High       Low     Close       Volume\nDate                                                           \n2023-06-02  33187.58  33805.00  33187.58  33762.76  389344216.0\n2023-06-01  32929.85  33167.75  32704.51  33061.57  355324945.0\n2023-05-31  32948.71  32984.83  32739.73  32908.27  696483463.0\n2023-05-30  33103.65  33132.70  32893.97  33042.78  325106901.0\n2023-05-26  32795.50  33162.06  32795.50  33093.34  343645214.0\n...              ...       ...       ...       ...          ...\n2018-06-11  25336.67  25402.83  25290.20  25322.31  276821832.0\n2018-06-08  25209.29  25325.63  25165.70  25316.53  317475228.0\n2018-06-07  25192.14  25326.09  25164.48  25241.41  357760091.0\n2018-06-06  24854.14  25146.46  24854.14  25146.39  316174338.0\n2018-06-05  24820.12  24838.78  24710.82  24799.98  306431116.0\n\n[1258 rows x 5 columns]",
      "text/html": "<div>\n<style scoped>\n    .dataframe tbody tr th:only-of-type {\n        vertical-align: middle;\n    }\n\n    .dataframe tbody tr th {\n        vertical-align: top;\n    }\n\n    .dataframe thead th {\n        text-align: right;\n    }\n</style>\n<table border=\"1\" class=\"dataframe\">\n  <thead>\n    <tr style=\"text-align: right;\">\n      <th></th>\n      <th>Open</th>\n      <th>High</th>\n      <th>Low</th>\n      <th>Close</th>\n      <th>Volume</th>\n    </tr>\n    <tr>\n      <th>Date</th>\n      <th></th>\n      <th></th>\n      <th></th>\n      <th></th>\n      <th></th>\n    </tr>\n  </thead>\n  <tbody>\n    <tr>\n      <th>2023-06-02</th>\n      <td>33187.58</td>\n      <td>33805.00</td>\n      <td>33187.58</td>\n      <td>33762.76</td>\n      <td>389344216.0</td>\n    </tr>\n    <tr>\n      <th>2023-06-01</th>\n      <td>32929.85</td>\n      <td>33167.75</td>\n      <td>32704.51</td>\n      <td>33061.57</td>\n      <td>355324945.0</td>\n    </tr>\n    <tr>\n      <th>2023-05-31</th>\n      <td>32948.71</td>\n      <td>32984.83</td>\n      <td>32739.73</td>\n      <td>32908.27</td>\n      <td>696483463.0</td>\n    </tr>\n    <tr>\n      <th>2023-05-30</th>\n      <td>33103.65</td>\n      <td>33132.70</td>\n      <td>32893.97</td>\n      <td>33042.78</td>\n      <td>325106901.0</td>\n    </tr>\n    <tr>\n      <th>2023-05-26</th>\n      <td>32795.50</td>\n      <td>33162.06</td>\n      <td>32795.50</td>\n      <td>33093.34</td>\n      <td>343645214.0</td>\n    </tr>\n    <tr>\n      <th>...</th>\n      <td>...</td>\n      <td>...</td>\n      <td>...</td>\n      <td>...</td>\n      <td>...</td>\n    </tr>\n    <tr>\n      <th>2018-06-11</th>\n      <td>25336.67</td>\n      <td>25402.83</td>\n      <td>25290.20</td>\n      <td>25322.31</td>\n      <td>276821832.0</td>\n    </tr>\n    <tr>\n      <th>2018-06-08</th>\n      <td>25209.29</td>\n      <td>25325.63</td>\n      <td>25165.70</td>\n      <td>25316.53</td>\n      <td>317475228.0</td>\n    </tr>\n    <tr>\n      <th>2018-06-07</th>\n      <td>25192.14</td>\n      <td>25326.09</td>\n      <td>25164.48</td>\n      <td>25241.41</td>\n      <td>357760091.0</td>\n    </tr>\n    <tr>\n      <th>2018-06-06</th>\n      <td>24854.14</td>\n      <td>25146.46</td>\n      <td>24854.14</td>\n      <td>25146.39</td>\n      <td>316174338.0</td>\n    </tr>\n    <tr>\n      <th>2018-06-05</th>\n      <td>24820.12</td>\n      <td>24838.78</td>\n      <td>24710.82</td>\n      <td>24799.98</td>\n      <td>306431116.0</td>\n    </tr>\n  </tbody>\n</table>\n<p>1258 rows × 5 columns</p>\n</div>"
     },
     "execution_count": 65,
     "metadata": {},
     "output_type": "execute_result"
    }
   ],
   "source": [
    "f = web.DataReader('^DJI', 'stooq')\n",
    "f"
   ],
   "metadata": {
    "collapsed": false,
    "pycharm": {
     "name": "#%%\n"
    }
   }
  },
  {
   "cell_type": "markdown",
   "source": [
    "<div style=\"background-color: #A12568; margin-left:40px; padding:15px; font-size:15px;\"> <strong>naver</strong> only for korean market"
   ],
   "metadata": {
    "collapsed": false,
    "pycharm": {
     "name": "#%% md\n"
    }
   }
  },
  {
   "cell_type": "code",
   "execution_count": null,
   "outputs": [],
   "source": [
    "start = datetime.datetime(2019, 9, 10)\n",
    "end = datetime.datetime(2019, 10, 9)\n",
    "\n",
    "df = web.DataReader('005930', 'naver', start=start, end=end)\n",
    "#005930 is symbol of samsung\n",
    "df.head()"
   ],
   "metadata": {
    "collapsed": false,
    "pycharm": {
     "name": "#%%\n"
    }
   }
  },
  {
   "cell_type": "markdown",
   "source": [
    "<div style=\"background-color: #A12568; margin-left:40px; padding:15px; font-size:15px;\"> <strong>yfinance</strong> THE BEST OF ALL HISTORICAL INFO AND ALL THE CURRANCY SUPPORTED"
   ],
   "metadata": {
    "collapsed": false,
    "pycharm": {
     "name": "#%% md\n"
    }
   }
  },
  {
   "cell_type": "code",
   "execution_count": null,
   "outputs": [],
   "source": [
    "import yfinance as yf\n",
    "import matplotlib.pyplot as plt\n",
    "\n",
    "data = yf.download('BTC-USD','2021-01-01','2021-09-30')\n",
    "data.head()"
   ],
   "metadata": {
    "collapsed": false,
    "pycharm": {
     "name": "#%%\n"
    }
   }
  },
  {
   "cell_type": "markdown",
   "source": [
    "<div style=\"background-color: #A12568; margin-left:40px; padding:15px; font-size:15px;\"> <strong>Download dataset from websites like stooq or tradingview</strong><br />https://stooq.com/q/d/?s=xauusd"
   ],
   "metadata": {
    "collapsed": false,
    "pycharm": {
     "name": "#%% md\n"
    }
   }
  },
  {
   "cell_type": "code",
   "execution_count": 74,
   "outputs": [
    {
     "data": {
      "text/plain": "                Open     High      Low     Close\nDate                                            \n2023-05-29  1942.915  1949.81  1940.38  1943.385\n2023-05-30  1944.250  1963.56  1932.25  1959.430\n2023-05-31  1959.230  1974.84  1953.74  1962.930\n2023-06-01  1962.890  1983.13  1953.42  1977.580\n2023-06-02  1977.010  1983.49  1948.15  1948.750",
      "text/html": "<div>\n<style scoped>\n    .dataframe tbody tr th:only-of-type {\n        vertical-align: middle;\n    }\n\n    .dataframe tbody tr th {\n        vertical-align: top;\n    }\n\n    .dataframe thead th {\n        text-align: right;\n    }\n</style>\n<table border=\"1\" class=\"dataframe\">\n  <thead>\n    <tr style=\"text-align: right;\">\n      <th></th>\n      <th>Open</th>\n      <th>High</th>\n      <th>Low</th>\n      <th>Close</th>\n    </tr>\n    <tr>\n      <th>Date</th>\n      <th></th>\n      <th></th>\n      <th></th>\n      <th></th>\n    </tr>\n  </thead>\n  <tbody>\n    <tr>\n      <th>2023-05-29</th>\n      <td>1942.915</td>\n      <td>1949.81</td>\n      <td>1940.38</td>\n      <td>1943.385</td>\n    </tr>\n    <tr>\n      <th>2023-05-30</th>\n      <td>1944.250</td>\n      <td>1963.56</td>\n      <td>1932.25</td>\n      <td>1959.430</td>\n    </tr>\n    <tr>\n      <th>2023-05-31</th>\n      <td>1959.230</td>\n      <td>1974.84</td>\n      <td>1953.74</td>\n      <td>1962.930</td>\n    </tr>\n    <tr>\n      <th>2023-06-01</th>\n      <td>1962.890</td>\n      <td>1983.13</td>\n      <td>1953.42</td>\n      <td>1977.580</td>\n    </tr>\n    <tr>\n      <th>2023-06-02</th>\n      <td>1977.010</td>\n      <td>1983.49</td>\n      <td>1948.15</td>\n      <td>1948.750</td>\n    </tr>\n  </tbody>\n</table>\n</div>"
     },
     "execution_count": 74,
     "metadata": {},
     "output_type": "execute_result"
    }
   ],
   "source": [
    "gold_df = pd.read_csv('D://pythonInternship//finantioal-analaysis//documentation_file//xauusd_d.csv', index_col='Date', parse_dates=True)\n",
    "gold_df.tail()"
   ],
   "metadata": {
    "collapsed": false,
    "pycharm": {
     "name": "#%%\n"
    }
   }
  },
  {
   "cell_type": "code",
   "execution_count": 91,
   "outputs": [
    {
     "data": {
      "text/plain": "[<matplotlib.lines.Line2D at 0x2096213eda0>]"
     },
     "execution_count": 91,
     "metadata": {},
     "output_type": "execute_result"
    },
    {
     "data": {
      "text/plain": "<Figure size 640x480 with 1 Axes>",
      "image/png": "[encoded data removed]"
     },
     "metadata": {},
     "output_type": "display_data"
    }
   ],
   "source": [
    "p = gold_df.loc['2023-01-01':'2023-05-29']['Open']\n",
    "inx = gold_df.loc['2023-01-01':'2023-05-29'].index\n",
    "import matplotlib.dates as dates\n",
    "\n",
    "%matplotlib inline\n",
    "fig,ax = plt.subplots()\n",
    "ax.plot_date(inx , p, ls='-')"
   ],
   "metadata": {
    "collapsed": false,
    "pycharm": {
     "name": "#%%\n"
    }
   }
  },
  {
   "cell_type": "markdown",
   "source": [],
   "metadata": {
    "collapsed": false,
    "pycharm": {
     "name": "#%% md\n"
    }
   }
  }
 ],
 "metadata": {
  "kernelspec": {
   "display_name": "Python 3",
   "language": "python",
   "name": "python3"
  },
  "language_info": {
   "codemirror_mode": {
    "name": "ipython",
    "version": 2
   },
   "file_extension": ".py",
   "mimetype": "text/x-python",
   "name": "python",
   "nbconvert_exporter": "python",
   "pygments_lexer": "ipython2",
   "version": "2.7.6"
  }
 },
 "nbformat": 4,
 "nbformat_minor": 0
}